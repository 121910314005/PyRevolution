{
 "cells": [
  {
   "cell_type": "markdown",
   "metadata": {},
   "source": [
    "#PyQt4 Tutorial (Events and Signals)\n",
    "\n",
    "###Author: Syed Sadat Nazrul"
   ]
  },
  {
   "cell_type": "markdown",
   "metadata": {},
   "source": [
    "Welcome back! If you are reading this, my previous tutorial didn't bore you too badly. \n",
    "\n",
    "As promised on the previous lesson, we will get the button working after we cover the concept of Events and Signals.\n",
    "\n",
    "Let's start off with events."
   ]
  },
  {
   "cell_type": "markdown",
   "metadata": {},
   "source": [
    "<img src=\"files/static/Event.jpg\">"
   ]
  },
  {
   "cell_type": "markdown",
   "metadata": {},
   "source": [
    "The event source is the object whose state changes. It generates events. The event object (event) encapsulates the state changes in the event source. The event target is the object that wants to be notified. Event source object delegates the task of handling an event to the event target.\n",
    "\n",
    "PyQt4 has a unique signal and slot mechanism to deal with events. Signals and slots are used for communication between objects. A signal is emitted when a particular event occurs. A slot can be any Python callable. A slot is called when a signal connected to it is emitted. In other words, the signal is the Event Object while the Slot is the Even Object in PyQt4 world."
   ]
  },
  {
   "cell_type": "markdown",
   "metadata": {},
   "source": [
    "###Event Source = Signal\n",
    "###Event Target = Slot"
   ]
  },
  {
   "cell_type": "markdown",
   "metadata": {
    "collapsed": false
   },
   "source": [
    "Now let's try creating an event with our button"
   ]
  },
  {
   "cell_type": "markdown",
   "metadata": {
    "collapsed": true
   },
   "source": [
    "In the above code, we first created a text box to accompany our button.\n",
    "```\n",
    "        self.lbl = QtGui.QLabel(self)\n",
    "        self.lbl.move(180, 50)\n",
    "        self.lbl.setText('Slot')\n",
    "        self.lbl.adjustSize()\n",
    "```\n",
    "\n",
    "As you have just seen, the button is the event source that generates a signal for the Signal() function. \n",
    "```\n",
    "        self.btn.clicked.connect(self.Signal)\n",
    "```\n",
    "This signal is handled by our Signal() function. \n",
    "```\n",
    "    def Signal(self):\n",
    "        self.lbl.setText('Signal Received')\n",
    "        self.lbl.move(150, 50)\n",
    "        self.lbl.adjustSize()\n",
    "```\n",
    "The Signal() connects the signal to our slot (in this case, out text box). Upon receiving the signal, the textbox changes its text from 'Slot' to 'Signal Received'."
   ]
  },
  {
   "cell_type": "code",
   "execution_count": null,
   "metadata": {
    "collapsed": true
   },
   "outputs": [],
   "source": []
  }
 ],
 "metadata": {
  "kernelspec": {
   "display_name": "Python 3",
   "language": "python",
   "name": "python3"
  },
  "language_info": {
   "codemirror_mode": {
    "name": "ipython",
    "version": 3
   },
   "file_extension": ".py",
   "mimetype": "text/x-python",
   "name": "python",
   "nbconvert_exporter": "python",
   "pygments_lexer": "ipython3",
   "version": "3.4.3"
  }
 },
 "nbformat": 4,
 "nbformat_minor": 0
}
