{
 "cells": [
  {
   "cell_type": "markdown",
   "metadata": {},
   "source": [
    "#PyQt4 Tutorial (Events and Signals)\n",
    "\n",
    "###Author: Syed Sadat Nazrul"
   ]
  },
  {
   "cell_type": "markdown",
   "metadata": {},
   "source": [
    "Welcome back! If you are reading this, my previous tutorial didn't bore you too badly. \n",
    "\n",
    "As promised on the previous lesson, we will get the button working after we cover the concept of Events and Signals.\n",
    "\n",
    "Let's start off with events."
   ]
  },
  {
   "cell_type": "markdown",
   "metadata": {},
   "source": [
    "##GUI 101!\n",
    "<img src=\"files/static/Event.jpg\">"
   ]
  },
  {
   "cell_type": "markdown",
   "metadata": {},
   "source": [
    "The event source is the object whose state changes. It generates events. The event object (event) encapsulates the state changes in the event source. The event target is the object that wants to be notified. Event source object delegates the task of handling an event to the event target.\n",
    "\n",
    "PyQt4 has a unique signal and slot mechanism to deal with events. Signals and slots are used for communication between objects. A signal is emitted when a particular event occurs. A slot can be any Python callable. A slot is called when a signal connected to it is emitted. In other words, the signal is the Event Object while the Slot is the Even Object in PyQt4 world."
   ]
  },
  {
   "cell_type": "markdown",
   "metadata": {},
   "source": [
    "##HENCE IN PyQt4 WORLD!\n",
    "###Event Object = Signal\n",
    "###Event Target = Slot"
   ]
  },
  {
   "cell_type": "markdown",
   "metadata": {
    "collapsed": false
   },
   "source": [
    "Now let's try creating an event with our button"
   ]
  },
  {
   "cell_type": "code",
   "execution_count": null,
   "metadata": {
    "collapsed": false
   },
   "outputs": [],
   "source": [
    "import sys\n",
    "from PyQt4 import QtGui\n",
    "\n",
    "\n",
    "class PrettyWidget(QtGui.QWidget):\n",
    "    \n",
    "    def __init__(self):\n",
    "        super(PrettyWidget, self).__init__()\n",
    "        self.initUI()\n",
    "        \n",
    "        \n",
    "    def initUI(self):\n",
    "        self.setGeometry(600, 300, 400, 200)\n",
    "        self.setWindowTitle('Signals and Events')     \n",
    "        \n",
    "        self.btn = QtGui.QPushButton('Button', self)\n",
    "        self.btn.resize(self.btn.sizeHint())\n",
    "        self.btn.move(150, 100)    \n",
    "        self.btn.clicked.connect(self.Signal)\n",
    "        \n",
    "        self.lbl = QtGui.QLabel(self)\n",
    "        self.lbl.move(180, 50)\n",
    "        self.lbl.setText('Slot')\n",
    "        self.lbl.adjustSize()     \n",
    "\n",
    "        self.show()\n",
    "        \n",
    "    def Signal(self):\n",
    "        self.lbl.setText('Signal Received')\n",
    "        self.lbl.move(150, 50)\n",
    "        self.lbl.adjustSize()\n",
    "        \n",
    "def main():\n",
    "    app = QtGui.QApplication(sys.argv)\n",
    "    w = PrettyWidget()\n",
    "    app.exec_()\n",
    "\n",
    "\n",
    "if __name__ == '__main__':\n",
    "    main()"
   ]
  },
  {
   "cell_type": "markdown",
   "metadata": {
    "collapsed": true
   },
   "source": [
    "In the above code, we first created a text box to accompany our button.\n",
    "```\n",
    "        self.lbl = QtGui.QLabel(self)\n",
    "        self.lbl.move(180, 50)\n",
    "        self.lbl.setText('Slot')\n",
    "        self.lbl.adjustSize()\n",
    "```\n",
    "\n",
    "As you have just seen, the button is the event source that generates a signal for the Signal() function. \n",
    "```\n",
    "        self.btn.clicked.connect(self.Signal)\n",
    "```\n",
    "This signal is handled by our Signal() function. \n",
    "```\n",
    "    def Signal(self):\n",
    "        self.lbl.setText('Signal Received')\n",
    "        self.lbl.move(150, 50)\n",
    "        self.lbl.adjustSize()\n",
    "```\n",
    "The Signal() connects the signal to our slot (in this case, out text box). Upon receiving the signal, the textbox changes its text from 'Slot' to 'Signal Received'.\n",
    "\n",
    "CONGRATS! We have a working button. Now we are one step closer to doing this...\n",
    "\n",
    "<img src=\"files/static/pushbutton.gif\">\n",
    "\n",
    "Sorry. Couldn't RESIST (haha.. get it? Fellow engineering nerds reading this???)"
   ]
  },
  {
   "cell_type": "markdown",
   "metadata": {
    "collapsed": true
   },
   "source": [
    "Now that we have a simple button working, let's try something a bit more sophisticated."
   ]
  },
  {
   "cell_type": "code",
   "execution_count": null,
   "metadata": {
    "collapsed": false
   },
   "outputs": [],
   "source": [
    "import sys\n",
    "from PyQt4 import QtGui\n",
    "\n",
    "\n",
    "class PrettyWidget(QtGui.QWidget):\n",
    "    \n",
    "    def __init__(self):\n",
    "        super(PrettyWidget, self).__init__()\n",
    "        self.initUI()\n",
    "        \n",
    "        \n",
    "    def initUI(self):\n",
    "        self.setGeometry(600, 300, 400, 200)\n",
    "        self.setWindowTitle('Signals and Events')     \n",
    "        \n",
    "        self.btn = QtGui.QPushButton('Button', self)\n",
    "        self.btn.resize(self.btn.sizeHint())\n",
    "        self.btn.move(150, 100)    \n",
    "        self.btn.clicked.connect(self.signalDialog)\n",
    "        \n",
    "        self.lbl = QtGui.QLabel(self)\n",
    "        self.lbl.move(180, 50)\n",
    "        self.lbl.setText('Slot')\n",
    "        self.lbl.adjustSize()     \n",
    "\n",
    "        self.show()\n",
    "        \n",
    "    def signalDialog(self):\n",
    "        text, ok = QtGui.QInputDialog.getText(self, 'Dialog Box', 'Enter text:')\n",
    "        if ok:\n",
    "            self.lbl.setText(str(text))\n",
    "            self.lbl.adjustSize()\n",
    "        \n",
    "def main():\n",
    "    app = QtGui.QApplication(sys.argv)\n",
    "    w = PrettyWidget()\n",
    "    app.exec_()\n",
    "\n",
    "\n",
    "if __name__ == '__main__':\n",
    "    main()"
   ]
  },
  {
   "cell_type": "markdown",
   "metadata": {},
   "source": [
    "We replaced our Signal() function with signalDialog(). \n",
    "```\n",
    "    def signalDialog(self):\n",
    "        text, ok = QtGui.QInputDialog.getText(self, 'Dialog', 'Enter text:')\n",
    "        if ok:\n",
    "            self.lbl.setText(str(text))\n",
    "            self.lbl.adjustSize()\n",
    "```\n",
    "If we click the button, a dialog box is prompted. If we enter a text and click ok on the dialog, the text 'Slot' is replaced with the text we entered.\n",
    "\n",
    "The dialog box was the generated by the signal generated by the button and the text box was transformed by the signal generated by the diaglog box's OK button. So the dialog box acted as the event source AND the event target... at the same time. Inception. *MIND BLOWN!!!*\n",
    "\n",
    "<img src=\"files/static/surprisedcat.gif\">"
   ]
  },
  {
   "cell_type": "markdown",
   "metadata": {},
   "source": [
    "Now that we understand the basics of events, slots and signals, GUI layout is still very.. disorganized. Next lesson will be on Layouts! "
   ]
  },
  {
   "cell_type": "markdown",
   "metadata": {},
   "source": [
    "##<- [Introduction](Introduction.ipynb)   |  [Layouts](Layouts.ipynb) ->"
   ]
  },
  {
   "cell_type": "code",
   "execution_count": null,
   "metadata": {
    "collapsed": true
   },
   "outputs": [],
   "source": []
  }
 ],
 "metadata": {
  "kernelspec": {
   "display_name": "Python 3",
   "language": "python",
   "name": "python3"
  },
  "language_info": {
   "codemirror_mode": {
    "name": "ipython",
    "version": 3
   },
   "file_extension": ".py",
   "mimetype": "text/x-python",
   "name": "python",
   "nbconvert_exporter": "python",
   "pygments_lexer": "ipython3",
   "version": "3.4.3"
  }
 },
 "nbformat": 4,
 "nbformat_minor": 0
}
