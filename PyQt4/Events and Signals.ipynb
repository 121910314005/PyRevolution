{
 "cells": [
  {
   "cell_type": "markdown",
   "metadata": {},
   "source": [
    "#PyQt4 Tutorial (Events and Signals)\n",
    "\n",
    "###Author: Syed Sadat Nazrul"
   ]
  },
  {
   "cell_type": "markdown",
   "metadata": {},
   "source": [
    "Welcome back! If you are reading this, my previous tutorial didn't bore you too badly. \n",
    "\n",
    "As promised on the previous lesson, we will get the button working after we cover the concept of Events and Signals.\n",
    "\n",
    "Let's start off with events."
   ]
  },
  {
   "cell_type": "markdown",
   "metadata": {},
   "source": [
    "<img src=\"files/static/Event.jpg\">"
   ]
  },
  {
   "cell_type": "markdown",
   "metadata": {},
   "source": [
    "The event source is the object whose state changes. It generates events. The event object (event) encapsulates the state changes in the event source. The event target is the object that wants to be notified. Event source object delegates the task of handling an event to the event target.\n",
    "\n",
    "PyQt4 has a unique signal and slot mechanism to deal with events. Signals and slots are used for communication between objects. A signal is emitted when a particular event occurs. A slot can be any Python callable. A slot is called when a signal connected to it is emitted. In other words, the signal is the Event Object while the Slot is the Even Object in PyQt4 world."
   ]
  },
  {
   "cell_type": "markdown",
   "metadata": {},
   "source": [
    "###Event Source = Signal\n",
    "###Event Target = Slot"
   ]
  },
  {
   "cell_type": "code",
   "execution_count": 3,
   "metadata": {
    "collapsed": false
   },
   "outputs": [
    {
     "ename": "NameError",
     "evalue": "name 'Now' is not defined",
     "output_type": "error",
     "traceback": [
      "\u001b[1;31m---------------------------------------------------------------------------\u001b[0m",
      "\u001b[1;31mNameError\u001b[0m                                 Traceback (most recent call last)",
      "\u001b[1;32m<ipython-input-3-6bc1ffdea33f>\u001b[0m in \u001b[0;36m<module>\u001b[1;34m()\u001b[0m\n\u001b[1;32m----> 1\u001b[1;33m \u001b[0mNow\u001b[0m\u001b[1;33m\u001b[0m\u001b[0m\n\u001b[0m",
      "\u001b[1;31mNameError\u001b[0m: name 'Now' is not defined"
     ]
    }
   ],
   "source": [
    "Now"
   ]
  },
  {
   "cell_type": "code",
   "execution_count": 9,
   "metadata": {
    "collapsed": false
   },
   "outputs": [
    {
     "ename": "SystemExit",
     "evalue": "0",
     "output_type": "error",
     "traceback": [
      "An exception has occurred, use %tb to see the full traceback.\n",
      "\u001b[1;31mSystemExit\u001b[0m\u001b[1;31m:\u001b[0m 0\n"
     ]
    },
    {
     "name": "stderr",
     "output_type": "stream",
     "text": [
      "To exit: use 'exit', 'quit', or Ctrl-D.\n"
     ]
    }
   ],
   "source": [
    "import sys\n",
    "from PyQt4 import QtGui\n",
    "\n",
    "\n",
    "class PrettyWidget(QtGui.QWidget):\n",
    "    \n",
    "    def __init__(self):\n",
    "        super(PrettyWidget, self).__init__()\n",
    "        self.initUI()\n",
    "        \n",
    "        \n",
    "    def initUI(self):\n",
    "        self.setGeometry(600, 300, 400, 200)\n",
    "        self.setWindowTitle('Slots and Signals')     \n",
    "        \n",
    "        #Button\n",
    "        self.btn = QtGui.QPushButton('Button', self)\n",
    "        self.btn.resize(self.btn.sizeHint())\n",
    "        self.btn.move(150, 100)    \n",
    "        self.btn.clicked.connect(self.Signal)\n",
    "        \n",
    "        #Text Box\n",
    "        self.lbl = QtGui.QLabel(self)\n",
    "        self.lbl.move(180, 50)\n",
    "        self.lbl.setText('Slot')\n",
    "        self.lbl.adjustSize()\n",
    "\n",
    "        self.show()\n",
    "        \n",
    "    def Signal(self):\n",
    "        self.lbl.setText('Signal Received')\n",
    "        self.lbl.move(150, 50)\n",
    "        self.lbl.adjustSize()\n",
    "        \n",
    "def main():\n",
    "    app = QtGui.QApplication(sys.argv)\n",
    "    w = PrettyWidget()\n",
    "    sys.exit(app.exec_())\n",
    "\n",
    "\n",
    "if __name__ == '__main__':\n",
    "    main()"
   ]
  },
  {
   "cell_type": "code",
   "execution_count": null,
   "metadata": {
    "collapsed": true
   },
   "outputs": [],
   "source": []
  }
 ],
 "metadata": {
  "kernelspec": {
   "display_name": "Python 3",
   "language": "python",
   "name": "python3"
  },
  "language_info": {
   "codemirror_mode": {
    "name": "ipython",
    "version": 3
   },
   "file_extension": ".py",
   "mimetype": "text/x-python",
   "name": "python",
   "nbconvert_exporter": "python",
   "pygments_lexer": "ipython3",
   "version": "3.4.3"
  }
 },
 "nbformat": 4,
 "nbformat_minor": 0
}
