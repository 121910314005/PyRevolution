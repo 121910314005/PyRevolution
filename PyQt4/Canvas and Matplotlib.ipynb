{
 "cells": [
  {
   "cell_type": "markdown",
   "metadata": {},
   "source": [
    "#PyQt4 Tutorial (Plotting on GUIs)\n",
    "\n",
    "###Author: Syed Sadat Nazrul"
   ]
  },
  {
   "cell_type": "code",
   "execution_count": 2,
   "metadata": {
    "collapsed": true
   },
   "outputs": [],
   "source": [
    "from PyQt4 import QtGui\n",
    "import matplotlib.pyplot as plt\n",
    "\n",
    "from matplotlib.backends.backend_qt4agg import FigureCanvasQTAgg as FigureCanvas\n",
    "from matplotlib.backends.backend_qt4agg import NavigationToolbar2QTAgg as NavigationToolbar"
   ]
  },
  {
   "cell_type": "code",
   "execution_count": 3,
   "metadata": {
    "collapsed": false
   },
   "outputs": [
    {
     "ename": "NameError",
     "evalue": "name 'sys' is not defined",
     "output_type": "error",
     "traceback": [
      "\u001b[1;31m---------------------------------------------------------------------------\u001b[0m",
      "\u001b[1;31mNameError\u001b[0m                                 Traceback (most recent call last)",
      "\u001b[1;32m<ipython-input-3-65322bc95fbe>\u001b[0m in \u001b[0;36m<module>\u001b[1;34m()\u001b[0m\n\u001b[0;32m     69\u001b[0m \u001b[1;33m\u001b[0m\u001b[0m\n\u001b[0;32m     70\u001b[0m \u001b[1;32mif\u001b[0m \u001b[0m__name__\u001b[0m \u001b[1;33m==\u001b[0m \u001b[1;34m'__main__'\u001b[0m\u001b[1;33m:\u001b[0m\u001b[1;33m\u001b[0m\u001b[0m\n\u001b[1;32m---> 71\u001b[1;33m     \u001b[0mmain\u001b[0m\u001b[1;33m(\u001b[0m\u001b[1;33m)\u001b[0m\u001b[1;33m\u001b[0m\u001b[0m\n\u001b[0m",
      "\u001b[1;32m<ipython-input-3-65322bc95fbe>\u001b[0m in \u001b[0;36mmain\u001b[1;34m()\u001b[0m\n\u001b[0;32m     63\u001b[0m \u001b[1;33m\u001b[0m\u001b[0m\n\u001b[0;32m     64\u001b[0m \u001b[1;32mdef\u001b[0m \u001b[0mmain\u001b[0m\u001b[1;33m(\u001b[0m\u001b[1;33m)\u001b[0m\u001b[1;33m:\u001b[0m\u001b[1;33m\u001b[0m\u001b[0m\n\u001b[1;32m---> 65\u001b[1;33m     \u001b[0mapp\u001b[0m \u001b[1;33m=\u001b[0m \u001b[0mQtGui\u001b[0m\u001b[1;33m.\u001b[0m\u001b[0mQApplication\u001b[0m\u001b[1;33m(\u001b[0m\u001b[0msys\u001b[0m\u001b[1;33m.\u001b[0m\u001b[0margv\u001b[0m\u001b[1;33m)\u001b[0m\u001b[1;33m\u001b[0m\u001b[0m\n\u001b[0m\u001b[0;32m     66\u001b[0m     \u001b[0mw\u001b[0m \u001b[1;33m=\u001b[0m \u001b[0mPrettyWidget\u001b[0m\u001b[1;33m(\u001b[0m\u001b[1;33m)\u001b[0m\u001b[1;33m\u001b[0m\u001b[0m\n\u001b[0;32m     67\u001b[0m     \u001b[0mapp\u001b[0m\u001b[1;33m.\u001b[0m\u001b[0mexec_\u001b[0m\u001b[1;33m(\u001b[0m\u001b[1;33m)\u001b[0m\u001b[1;33m\u001b[0m\u001b[0m\n",
      "\u001b[1;31mNameError\u001b[0m: name 'sys' is not defined"
     ]
    }
   ],
   "source": [
    "class PrettyWidget(QtGui.QWidget):\n",
    "    \n",
    "    \n",
    "    def __init__(self):\n",
    "        super(PrettyWidget, self).__init__()\n",
    "        self.initUI()\n",
    "        \n",
    "        \n",
    "    def initUI(self):\n",
    "        self.setGeometry(600,300, 1000, 600)\n",
    "        self.center()\n",
    "        self.setWindowTitle('GUI Plotting')     \n",
    "       \n",
    "        grid = QtGui.QGridLayout()\n",
    "        self.setLayout(grid)\n",
    "       \n",
    "        btn1 = QtGui.QPushButton('Plot 1', self)\n",
    "        btn1.resize(btn1.sizeHint()) \n",
    "        btn1.clicked.connect(self.plot1)\n",
    "        grid.addWidget(btn1, 2,0)\n",
    "\n",
    "        btn2 = QtGui.QPushButton('Plot 2', self)\n",
    "        btn2.resize(btn2.sizeHint())    \n",
    "        btn2.clicked.connect(self.plot2)\n",
    "        grid.addWidget(btn2, 2,1)\n",
    "               \n",
    "        self.figure = plt.figure(figsize=(15,5))    \n",
    "        self.canvas = FigureCanvas(self.figure)     \n",
    "        self.toolbar = NavigationToolbar(self.canvas, self)\n",
    "        grid.addWidget(self.canvas, 1,0,1,2)\n",
    "        grid.addWidget(self.toolbar, 0,0,1,2)\n",
    "               \n",
    "        self.show()\n",
    "    \n",
    "    \n",
    "    def plot1(self):\n",
    "        plt.cla()\n",
    "        ax = self.figure.add_subplot(111)\n",
    "        x = [i for i in range(100)]\n",
    "        y = [i**2 for i in x]\n",
    "        ax.plot(x,y, 'b.-')\n",
    "        ax.set_title('Quadratic Plot')\n",
    "        self.canvas.draw()\n",
    "    \n",
    "    \n",
    "    def plot2(self):\n",
    "        plt.cla()\n",
    "        ax = self.figure.add_subplot(111)\n",
    "        x = [i for i in range(100)]\n",
    "        y = [i**0.5 for i in x]\n",
    "        ax.plot(x,y, 'r.-')\n",
    "        ax.set_title('Square Root Plot')\n",
    "        self.canvas.draw()\n",
    "    \n",
    "    \n",
    "    def center(self):\n",
    "        qr = self.frameGeometry()\n",
    "        cp = QtGui.QDesktopWidget().availableGeometry().center()\n",
    "        qr.moveCenter(cp)\n",
    "        self.move(qr.topLeft())\n",
    "    \n",
    "    \n",
    "        \n",
    "def main():\n",
    "    app = QtGui.QApplication(sys.argv)\n",
    "    w = PrettyWidget()\n",
    "    app.exec_()\n",
    "\n",
    "\n",
    "if __name__ == '__main__':\n",
    "    main()"
   ]
  },
  {
   "cell_type": "markdown",
   "metadata": {},
   "source": [
    "##<- [Layouts](Layouts.ipynb)   |  [Tables](Tables.ipynb) ->"
   ]
  },
  {
   "cell_type": "code",
   "execution_count": null,
   "metadata": {
    "collapsed": true
   },
   "outputs": [],
   "source": []
  }
 ],
 "metadata": {
  "kernelspec": {
   "display_name": "Python 3",
   "language": "python",
   "name": "python3"
  },
  "language_info": {
   "codemirror_mode": {
    "name": "ipython",
    "version": 3
   },
   "file_extension": ".py",
   "mimetype": "text/x-python",
   "name": "python",
   "nbconvert_exporter": "python",
   "pygments_lexer": "ipython3",
   "version": "3.4.3"
  }
 },
 "nbformat": 4,
 "nbformat_minor": 0
}
