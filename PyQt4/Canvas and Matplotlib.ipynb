{
 "cells": [
  {
   "cell_type": "markdown",
   "metadata": {},
   "source": [
    "#PyQt4 Tutorial (Plotting on GUIs)\n",
    "\n",
    "###Author: Syed Sadat Nazrul"
   ]
  },
  {
   "cell_type": "code",
   "execution_count": 1,
   "metadata": {
    "collapsed": true
   },
   "outputs": [],
   "source": [
    "from PyQt4 import QtGui\n",
    "import matplotlib.pyplot as plt\n",
    "\n",
    "from matplotlib.backends.backend_qt4agg import FigureCanvasQTAgg as FigureCanvas\n",
    "from matplotlib.backends.backend_qt4agg import NavigationToolbar2QTAgg as NavigationToolbar"
   ]
  },
  {
   "cell_type": "code",
   "execution_count": null,
   "metadata": {
    "collapsed": false
   },
   "outputs": [],
   "source": [
    "import sys\n",
    "from PyQt4 import QtGui\n",
    "\n",
    "\n",
    "class PrettyWidget(QtGui.QWidget):\n",
    "    \n",
    "    \n",
    "    def __init__(self):\n",
    "        super(PrettyWidget, self).__init__()\n",
    "        self.initUI()\n",
    "        \n",
    "        \n",
    "    def initUI(self):\n",
    "        self.setGeometry(600,300, 1000, 600)\n",
    "        self.center()\n",
    "        self.setWindowTitle('GUI Plotting')     \n",
    "       \n",
    "        grid = QtGui.QGridLayout()\n",
    "        self.setLayout(grid)\n",
    "       \n",
    "        btn1 = QtGui.QPushButton('Plot 1', self)\n",
    "        btn1.resize(btn1.sizeHint()) \n",
    "        btn1.clicked.connect(self.plot1)\n",
    "        grid.addWidget(btn1, 2,0)\n",
    "\n",
    "        btn2 = QtGui.QPushButton('Plot 2', self)\n",
    "        btn2.resize(btn2.sizeHint())    \n",
    "        btn2.clicked.connect(self.plot2)\n",
    "        grid.addWidget(btn2, 2,1)\n",
    "               \n",
    "        self.figure = plt.figure(figsize=(15,5))    \n",
    "        self.canvas = FigureCanvas(self.figure)     \n",
    "        self.toolbar = NavigationToolbar(self.canvas, self)\n",
    "        grid.addWidget(self.canvas, 1,0,1,2)\n",
    "        grid.addWidget(self.toolbar, 0,0,1,2)\n",
    "               \n",
    "        self.show()\n",
    "    \n",
    "    \n",
    "    def plot1(self):\n",
    "        plt.cla()\n",
    "        ax = self.figure.add_subplot(111)\n",
    "        x = [i for i in range(100)]\n",
    "        y = [i**2 for i in x]\n",
    "        ax.plot(x,y, 'b.-')\n",
    "        ax.set_title('Quadratic Plot')\n",
    "        self.canvas.draw()\n",
    "    \n",
    "    \n",
    "    def plot2(self):\n",
    "        plt.cla()\n",
    "        ax = self.figure.add_subplot(111)\n",
    "        x = [i for i in range(100)]\n",
    "        y = [i**0.5 for i in x]\n",
    "        ax.plot(x,y, 'r.-')\n",
    "        ax.set_title('Square Root Plot')\n",
    "        self.canvas.draw()\n",
    "    \n",
    "    \n",
    "    def center(self):\n",
    "        qr = self.frameGeometry()\n",
    "        cp = QtGui.QDesktopWidget().availableGeometry().center()\n",
    "        qr.moveCenter(cp)\n",
    "        self.move(qr.topLeft())\n",
    "    \n",
    "    \n",
    "        \n",
    "def main():\n",
    "    app = QtGui.QApplication(sys.argv)\n",
    "    w = PrettyWidget()\n",
    "    app.exec_()\n",
    "\n",
    "\n",
    "if __name__ == '__main__':\n",
    "    main()"
   ]
  },
  {
   "cell_type": "markdown",
   "metadata": {},
   "source": [
    "##<- [Layouts](Layouts.ipynb)   |  [Tables](Tables.ipynb) ->"
   ]
  },
  {
   "cell_type": "code",
   "execution_count": null,
   "metadata": {
    "collapsed": true
   },
   "outputs": [],
   "source": []
  }
 ],
 "metadata": {
  "kernelspec": {
   "display_name": "Python 3",
   "language": "python",
   "name": "python3"
  },
  "language_info": {
   "codemirror_mode": {
    "name": "ipython",
    "version": 3
   },
   "file_extension": ".py",
   "mimetype": "text/x-python",
   "name": "python",
   "nbconvert_exporter": "python",
   "pygments_lexer": "ipython3",
   "version": "3.4.3"
  }
 },
 "nbformat": 4,
 "nbformat_minor": 0
}
