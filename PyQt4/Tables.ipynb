{
 "cells": [
  {
   "cell_type": "markdown",
   "metadata": {},
   "source": [
    "#PyQt4 Tutorial (Tables on GUIs)\n",
    "\n",
    "###Author: Syed Sadat Nazrul"
   ]
  },
  {
   "cell_type": "code",
   "execution_count": 1,
   "metadata": {
    "collapsed": true
   },
   "outputs": [],
   "source": [
    "from PyQt4 import QtGui"
   ]
  },
  {
   "cell_type": "code",
   "execution_count": null,
   "metadata": {
    "collapsed": false
   },
   "outputs": [],
   "source": [
    "import sys\n",
    "from PyQt4 import QtGui\n",
    "\n",
    "\n",
    "class PrettyWidget(QtGui.QWidget):\n",
    "    \n",
    "    def __init__(self):\n",
    "        super(PrettyWidget, self).__init__()\n",
    "        self.initUI()\n",
    "        \n",
    "        \n",
    "    def initUI(self):\n",
    "        self.setGeometry(600, 300, 400, 200)\n",
    "        self.setWindowTitle('Table')     \n",
    "        \n",
    "        #Grid Layout\n",
    "        grid = QtGui.QGridLayout()\n",
    "        self.setLayout(grid)\n",
    "        \n",
    "        #Data\n",
    "        data = {'Kitty':['1','2','3','3'], \n",
    "                'Cat':['4','5','6','2'], \n",
    "                'Meow':['7','8','9','5'],\n",
    "                'Purr':['4','3','4','8'],}\n",
    "        \n",
    "        #Create Empty 5x5 Table\n",
    "        table = QtGui.QTableWidget(self)\n",
    "        table.setRowCount(5)\n",
    "        table.setColumnCount(5)\n",
    "        \n",
    "        #Enter data onto Table\n",
    "        horHeaders = []\n",
    "        for n, key in enumerate(sorted(data.keys())):\n",
    "            horHeaders.append(key)\n",
    "            for m, item in enumerate(data[key]):\n",
    "                newitem = QtGui.QTableWidgetItem(item)\n",
    "                table.setItem(m, n, newitem)\n",
    "        \n",
    "        #Add Header\n",
    "        table.setHorizontalHeaderLabels(horHeaders)        \n",
    "\n",
    "        #Adjust size of Table\n",
    "        table.resizeColumnsToContents()\n",
    "        table.resizeRowsToContents()\n",
    "        \n",
    "        #Add Table to Grid\n",
    "        grid.addWidget(table, 0,0)     \n",
    "\n",
    "        self.show()\n",
    "        \n",
    "def main():\n",
    "    app = QtGui.QApplication(sys.argv)\n",
    "    w = PrettyWidget()\n",
    "    app.exec_()\n",
    "\n",
    "\n",
    "if __name__ == '__main__':\n",
    "    main()"
   ]
  },
  {
   "cell_type": "code",
   "execution_count": null,
   "metadata": {
    "collapsed": true
   },
   "outputs": [],
   "source": []
  }
 ],
 "metadata": {
  "kernelspec": {
   "display_name": "Python 3",
   "language": "python",
   "name": "python3"
  },
  "language_info": {
   "codemirror_mode": {
    "name": "ipython",
    "version": 3
   },
   "file_extension": ".py",
   "mimetype": "text/x-python",
   "name": "python",
   "nbconvert_exporter": "python",
   "pygments_lexer": "ipython3",
   "version": "3.4.3"
  }
 },
 "nbformat": 4,
 "nbformat_minor": 0
}
