{
 "cells": [
  {
   "cell_type": "markdown",
   "metadata": {},
   "source": [
    "#PyQt4 Tutorial (Introduction)\n",
    "\n",
    "###Author: Syed Sadat Nazrul"
   ]
  },
  {
   "cell_type": "markdown",
   "metadata": {},
   "source": [
    "Welcome to the PyQt4 tutorial! \n",
    "\n",
    "PyQt4 is a toolkit for creating GUI applications. It is a blending of Python programming language and the successful Qt library. Qt library is one of the most powerful GUI libraries.\n",
    "\n",
    "Now first of all.... what is a GUI??? \n",
    "\n",
    "A GUI or Graphical User interface is a type of interface that allows users to interact with electronic devices through graphical icons and visual indicators such as secondary notation, as opposed to text-based interfaces, typed command labels or text navigation.\n",
    "\n",
    "Why do we care? \n",
    "\n",
    "Well first of all, it makes it more convenient to use when you are dealing with people who cant code.. unless you want them to react to something like this..."
   ]
  },
  {
   "cell_type": "markdown",
   "metadata": {},
   "source": [
    "<img src=\"files/static/confused.gif\">"
   ]
  },
  {
   "cell_type": "markdown",
   "metadata": {},
   "source": [
    "Before we jump into details, lets get started by making your first app and generating a window! It's a lot of code down there but stay calm. This will all make sense in no time. Run it now and see what happens."
   ]
  },
  {
   "cell_type": "code",
   "execution_count": null,
   "metadata": {
    "collapsed": false
   },
   "outputs": [],
   "source": [
    "import sys\n",
    "from PyQt4 import QtGui\n",
    "\n",
    "\n",
    "def main():\n",
    "    \n",
    "    app = QtGui.QApplication(sys.argv)\n",
    "\n",
    "    w = QtGui.QWidget()\n",
    "    w.resize(400,200)\n",
    "    w.move(600, 300)\n",
    "    w.setWindowTitle('YOUR FIRST PYTHON GUI!')\n",
    "    w.show()\n",
    "    \n",
    "    sys.exit(app.exec_())\n",
    "\n",
    "\n",
    "if __name__ == '__main__':\n",
    "    main()"
   ]
  },
  {
   "cell_type": "markdown",
   "metadata": {},
   "source": [
    "Wasn't that fun? Alright. Now lets break down this code to it's nitty gritties!\n",
    "\n",
    "First off, we created a ```main()``` function that can be activated via the terminal to launch our GUI.\n",
    "\n",
    "Before starting any PyQt4 GUI we need to launch the application (QApplication object). \n",
    "\n",
    "        app = QtGui.QApplication(sys.argv)\n",
    "        \n",
    "The QApplication class manages the GUI application's control flow and main settings.\n",
    "\n",
    "Now that we have our application running, let's create our Widget. \n",
    "\n",
    "        w = QtGui.QWidget()\n",
    "        \n",
    "The QWidget class is the base class of all user interface objects.\n",
    "\n",
    "Now that we have our Widget (or pretty window you just made), let's customize our Widget (w) with the size and shapes we want\n",
    "\n",
    "        w = QtGui.QWidget()\n",
    "        w.resize(400,200)\n",
    "        w.move(600, 300)\n",
    "        w.setWindowTitle('YOUR FIRST PYTHON GUI!')\n"
   ]
  },
  {
   "cell_type": "code",
   "execution_count": null,
   "metadata": {
    "collapsed": true
   },
   "outputs": [],
   "source": []
  }
 ],
 "metadata": {
  "kernelspec": {
   "display_name": "Python 3",
   "language": "python",
   "name": "python3"
  }
 },
 "nbformat": 4,
 "nbformat_minor": 0
}
