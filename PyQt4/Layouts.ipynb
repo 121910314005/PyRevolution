{
 "cells": [
  {
   "cell_type": "markdown",
   "metadata": {},
   "source": [
    "#PyQt4 Tutorial (Layouts)\n",
    "\n",
    "###Author: Syed Sadat Nazrul"
   ]
  },
  {
   "cell_type": "markdown",
   "metadata": {},
   "source": [
    "So far on our tutorials, we have been manually moving objects (e.g. buttons and layouts) on our widget by manually using the <b>move()</b> function and entering the coordinates. \n",
    "\n",
    "Fortunately, PyQt4 has an ingenius built-in layout mangement system that makes our work easier. Now, what's a layout you ask???\n",
    "\n",
    "Layout Management is essentially how we can place the widget on our window.\n",
    "\n",
    "Not having a proper layout for your GUI is like having your objects all over the place.. like the disorganized and messy room below:"
   ]
  },
  {
   "cell_type": "markdown",
   "metadata": {},
   "source": [
    "<img src=\"files/static/MessyRoom.jpg\">"
   ]
  },
  {
   "cell_type": "markdown",
   "metadata": {},
   "source": [
    "PyQt4 has 2 basic ways to manage layouts: <b>absolute positioning</b> and <b>layout classes</b>"
   ]
  },
  {
   "cell_type": "markdown",
   "metadata": {},
   "source": [
    "####Absolute Positioning"
   ]
  },
  {
   "cell_type": "markdown",
   "metadata": {},
   "source": [
    "Absolute positioning is basically what we have been using on our previous examples... the <b>move()</b> function...\n",
    "\n",
    "Alright. I sounded a little passive aggressive back there. And I have a good reason for it too. Absolute Positioning is good when you want to specify every tiny detail about how the objects should be arranged. Think of it as micromanagement... at an extreme level!\n",
    "\n",
    "Let's try an example:"
   ]
  },
  {
   "cell_type": "code",
   "execution_count": null,
   "metadata": {
    "collapsed": true
   },
   "outputs": [],
   "source": [
    "import sys\n",
    "from PyQt4 import QtGui\n",
    "\n",
    "\n",
    "class PrettyWidget(QtGui.QWidget):\n",
    "    \n",
    "    def __init__(self):\n",
    "        super(PrettyWidget, self).__init__()\n",
    "        self.initUI()\n",
    "        \n",
    "        \n",
    "    def initUI(self):\n",
    "        self.setGeometry(600, 300, 400, 200)\n",
    "        self.setWindowTitle('Absolute Positioning')     \n",
    "        \n",
    "        btn = QtGui.QPushButton('Button', self)\n",
    "        btn.resize(btn.sizeHint())\n",
    "        btn.move(150, 100)     \n",
    "\n",
    "        self.show()\n",
    "        \n",
    "def main():\n",
    "    app = QtGui.QApplication(sys.argv)\n",
    "    w = PrettyWidget()\n",
    "    app.exec_()\n",
    "\n",
    "\n",
    "if __name__ == '__main__':\n",
    "    main()"
   ]
  },
  {
   "cell_type": "markdown",
   "metadata": {},
   "source": [
    "On this code, we have used the following line:\n",
    "    btn.move(150, 100)    \n",
    "   \n",
    "So we have moved our button to the position (150,100) on our widget.\n",
    "\n",
    "Next, try resizing your widget. Noticed anything??? "
   ]
  },
  {
   "cell_type": "markdown",
   "metadata": {},
   "source": [
    "<img src=\"files/static/confused.gif\">"
   ]
  },
  {
   "cell_type": "markdown",
   "metadata": {},
   "source": [
    "Yup. You guessed it. The button position does not readjust with the window size!"
   ]
  },
  {
   "cell_type": "markdown",
   "metadata": {},
   "source": [
    "####Layout Classes"
   ]
  },
  {
   "cell_type": "markdown",
   "metadata": {},
   "source": [
    "Now that we have seen the issues with absolute positioning, let's look at the basic PyQt4 layout classes:\n",
    "\n",
    "1) Box Layout (Horizontal and Vertical)\n",
    "\n",
    "2) Grid Layout"
   ]
  },
  {
   "cell_type": "markdown",
   "metadata": {},
   "source": [
    "####Layout Classes : Box Layout"
   ]
  },
  {
   "cell_type": "markdown",
   "metadata": {},
   "source": [
    "Box Layouts allow you to add objects to your widget and allow the box to adjust the positioning of these objects with the widget size. The common Box Layouts are <b>Horizontal Box Layout</b> and <b>Vertical Box Layout</b>.\n",
    "\n",
    "<img src=\"files/static/BoxLayout.jpg\">"
   ]
  },
  {
   "cell_type": "markdown",
   "metadata": {},
   "source": [
    "First off, here is a code with <b>Horizontal Box Layout</b>:"
   ]
  },
  {
   "cell_type": "code",
   "execution_count": null,
   "metadata": {
    "collapsed": false
   },
   "outputs": [],
   "source": [
    "import sys\n",
    "from PyQt4 import QtGui\n",
    "\n",
    "\n",
    "class PrettyWidget(QtGui.QWidget):\n",
    "    \n",
    "    def __init__(self):\n",
    "        super(PrettyWidget, self).__init__()\n",
    "        self.initUI()\n",
    "        \n",
    "        \n",
    "    def initUI(self):\n",
    "        self.setGeometry(600, 300, 400, 200)\n",
    "        self.setWindowTitle('Horizontal Box Layout')     \n",
    "        \n",
    "        hbox = QtGui.QHBoxLayout()\n",
    "        hbox.addStretch(1)\n",
    "        \n",
    "        btn1 = QtGui.QPushButton('Button 1', self)\n",
    "        btn1.resize(btn1.sizeHint())     \n",
    "        hbox.addWidget(btn1)\n",
    "\n",
    "        btn2 = QtGui.QPushButton('Button 2', self)\n",
    "        btn2.resize(btn2.sizeHint()) \n",
    "        hbox.addWidget(btn2)\n",
    "        \n",
    "        self.setLayout(hbox)\n",
    "    \n",
    "        self.show()\n",
    "        \n",
    "def main():\n",
    "    app = QtGui.QApplication(sys.argv)\n",
    "    w = PrettyWidget()\n",
    "    app.exec_()\n",
    "\n",
    "\n",
    "if __name__ == '__main__':\n",
    "    main()"
   ]
  },
  {
   "cell_type": "markdown",
   "metadata": {},
   "source": [
    "So for the code above, the buttons repositions to the center of the widget as you stretch the button vertically. This is because the buttons are arranged horizontally and the box will reposition the vertical coordinates based on the window.\n",
    "\n",
    "To make the HBox, we used the following codes:\n",
    "\n",
    "        hbox = QtGui.QHBoxLayout()\n",
    "        hbox.addStretch(1)\n",
    "        \n",
    "\n",
    "This created the hbox for us to enter our button objects.   \n",
    "        \n",
    "        ...\n",
    "        \n",
    "        hbox.addWidget(btn1)\n",
    "        \n",
    "        ...\n",
    "        \n",
    "        hbox.addWidget(btn2)\n",
    "        \n",
    "        \n",
    "        \n",
    "Finally, we add our hbox to our GUI:\n",
    "\n",
    "        self.setLayout(hbox)"
   ]
  },
  {
   "cell_type": "markdown",
   "metadata": {},
   "source": [
    "Next, we do the exact same thing but with <b>Vertical Box Layout</b>:"
   ]
  },
  {
   "cell_type": "code",
   "execution_count": null,
   "metadata": {
    "collapsed": true
   },
   "outputs": [],
   "source": [
    "import sys\n",
    "from PyQt4 import QtGui\n",
    "\n",
    "\n",
    "class PrettyWidget(QtGui.QWidget):\n",
    "    \n",
    "    def __init__(self):\n",
    "        super(PrettyWidget, self).__init__()\n",
    "        self.initUI()\n",
    "        \n",
    "        \n",
    "    def initUI(self):\n",
    "        self.setGeometry(600, 300, 400, 200)\n",
    "        self.setWindowTitle('Vertical Box Layout')     \n",
    "        \n",
    "        vbox = QtGui.QVBoxLayout()\n",
    "        vbox.addStretch(1)\n",
    "        \n",
    "        btn1 = QtGui.QPushButton('Button 1', self)\n",
    "        btn1.resize(btn1.sizeHint())     \n",
    "        vbox.addWidget(btn1)\n",
    "\n",
    "        btn2 = QtGui.QPushButton('Button 2', self)\n",
    "        btn2.resize(btn2.sizeHint()) \n",
    "        vbox.addWidget(btn2)\n",
    "        \n",
    "        self.setLayout(vbox)\n",
    "    \n",
    "        self.show()\n",
    "        \n",
    "def main():\n",
    "    app = QtGui.QApplication(sys.argv)\n",
    "    w = PrettyWidget()\n",
    "    app.exec_()\n",
    "\n",
    "\n",
    "if __name__ == '__main__':\n",
    "    main()"
   ]
  },
  {
   "cell_type": "markdown",
   "metadata": {},
   "source": [
    "The buttons are now stacked vertically on our vbox and they stretch with the widget horizontally."
   ]
  },
  {
   "cell_type": "markdown",
   "metadata": {},
   "source": [
    "Now that we can make both vertical and horziontal layout boxes, let's try to combine the 2!"
   ]
  },
  {
   "cell_type": "markdown",
   "metadata": {},
   "source": [
    "<img src=\"files/static/ComboBox.jpg\">"
   ]
  },
  {
   "cell_type": "code",
   "execution_count": null,
   "metadata": {
    "collapsed": false
   },
   "outputs": [],
   "source": [
    "import sys\n",
    "from PyQt4 import QtGui\n",
    "\n",
    "\n",
    "class PrettyWidget(QtGui.QWidget):\n",
    "    \n",
    "    def __init__(self):\n",
    "        super(PrettyWidget, self).__init__()\n",
    "        self.initUI()\n",
    "        \n",
    "        \n",
    "    def initUI(self):\n",
    "        self.setGeometry(600, 300, 400, 200)\n",
    "        self.setWindowTitle('Combo Box Layout')     \n",
    "       \n",
    "    \n",
    "        #VBOX1\n",
    "        \n",
    "        vbox1 = QtGui.QVBoxLayout()\n",
    "        vbox1.addStretch(1)\n",
    "       \n",
    "        btn1 = QtGui.QPushButton('Button 1', self)\n",
    "        btn1.resize(btn1.sizeHint())     \n",
    "        vbox1.addWidget(btn1)\n",
    "\n",
    "        btn2 = QtGui.QPushButton('Button 2', self)\n",
    "        btn2.resize(btn2.sizeHint()) \n",
    "        vbox1.addWidget(btn2)\n",
    "       \n",
    "     \n",
    "        #VBOX2\n",
    "        \n",
    "        vbox2 = QtGui.QVBoxLayout()\n",
    "        vbox2.addStretch(1)\n",
    "    \n",
    "        btn3 = QtGui.QPushButton('Button 3', self)\n",
    "        btn3.resize(btn3.sizeHint())     \n",
    "        vbox2.addWidget(btn3)\n",
    "\n",
    "        btn4 = QtGui.QPushButton('Button 4', self)\n",
    "        btn4.resize(btn4.sizeHint()) \n",
    "        vbox2.addWidget(btn4)\n",
    "               \n",
    "        #HBOX   \n",
    "        \n",
    "        hbox = QtGui.QHBoxLayout()\n",
    "        hbox.addStretch(1)\n",
    "        hbox.addLayout(vbox1)\n",
    "        hbox.addLayout(vbox2)\n",
    "        \n",
    "        self.setLayout(hbox)\n",
    "    \n",
    "        self.show()\n",
    "        \n",
    "def main():\n",
    "    app = QtGui.QApplication(sys.argv)\n",
    "    w = PrettyWidget()\n",
    "    app.exec_()\n",
    "\n",
    "\n",
    "if __name__ == '__main__':\n",
    "    main()"
   ]
  },
  {
   "cell_type": "markdown",
   "metadata": {
    "collapsed": true
   },
   "source": [
    "One small difference to note when adding a layout in another layout as opposed to adding a widget to a layout.\n",
    "\n",
    "When adding a button, we use <b>addWidget()</b>:\n",
    "\n",
    "        vbox2.addWidget(btn4)\n",
    "        \n",
    "When adding the QVBox inside a QHBox, we use <b>addLayout()</b>:\n",
    "\n",
    "        hbox.addLayout(vbox2)\n",
    "        \n",
    "Finally, we set the resulting hbox into our final GUI:\n",
    "\n",
    "        self.setLayout(hbox)        "
   ]
  },
  {
   "cell_type": "markdown",
   "metadata": {},
   "source": [
    "####Grid Layout"
   ]
  },
  {
   "cell_type": "markdown",
   "metadata": {},
   "source": [
    "Finally, if you still like the coordinate system of absolute positioning but still want the objects to stretch with the window, Grid Layout might be the thing for you!"
   ]
  },
  {
   "cell_type": "markdown",
   "metadata": {},
   "source": [
    "<img src=\"files/static/Grid.gif\">"
   ]
  },
  {
   "cell_type": "markdown",
   "metadata": {},
   "source": [
    "The Grid Layout divides the space on the window into rows and columns. We simply have to enter the coordinate on the grid when building the GUI."
   ]
  },
  {
   "cell_type": "code",
   "execution_count": null,
   "metadata": {
    "collapsed": true
   },
   "outputs": [],
   "source": [
    "import sys\n",
    "from PyQt4 import QtGui\n",
    "\n",
    "\n",
    "class PrettyWidget(QtGui.QWidget):\n",
    "    \n",
    "    def __init__(self):\n",
    "        super(PrettyWidget, self).__init__()\n",
    "        self.initUI()\n",
    "        \n",
    "        \n",
    "    def initUI(self):\n",
    "        self.setGeometry(600, 300, 400, 200)\n",
    "        self.setWindowTitle('Grid Layout')     \n",
    "       \n",
    "        grid = QtGui.QGridLayout()\n",
    "        self.setLayout(grid)\n",
    "       \n",
    "        btn1 = QtGui.QPushButton('Button 1', self)\n",
    "        btn1.resize(btn1.sizeHint())     \n",
    "        grid.addWidget(btn1, 0,0)\n",
    "\n",
    "        btn2 = QtGui.QPushButton('Button 2', self)\n",
    "        btn2.resize(btn2.sizeHint()) \n",
    "        grid.addWidget(btn2, 1,0)\n",
    "       \n",
    "        btn3 = QtGui.QPushButton('Button 3', self)\n",
    "        btn3.resize(btn3.sizeHint())     \n",
    "        grid.addWidget(btn3, 0,1)\n",
    "\n",
    "        btn4 = QtGui.QPushButton('Button 4', self)\n",
    "        btn4.resize(btn4.sizeHint()) \n",
    "        grid.addWidget(btn4, 1,1)\n",
    "               \n",
    "        self.show()\n",
    "        \n",
    "def main():\n",
    "    app = QtGui.QApplication(sys.argv)\n",
    "    w = PrettyWidget()\n",
    "    app.exec_()\n",
    "\n",
    "\n",
    "if __name__ == '__main__':\n",
    "    main()"
   ]
  },
  {
   "cell_type": "markdown",
   "metadata": {},
   "source": [
    "Congratulations! Now you know how to use Layout Management to have a clean and organized GUI!"
   ]
  },
  {
   "cell_type": "markdown",
   "metadata": {},
   "source": [
    "<img src=\"files/static/CleanRoom.jpg\">"
   ]
  },
  {
   "cell_type": "markdown",
   "metadata": {},
   "source": [
    "##<- [Events and Signals](Events and Signals.ipynb)   |  [Canvas and Matplotlib](Canvas and Matplotlib.ipynb) ->"
   ]
  },
  {
   "cell_type": "code",
   "execution_count": null,
   "metadata": {
    "collapsed": true
   },
   "outputs": [],
   "source": []
  }
 ],
 "metadata": {
  "kernelspec": {
   "display_name": "Python 2",
   "language": "python",
   "name": "python2"
  },
  "language_info": {
   "codemirror_mode": {
    "name": "ipython",
    "version": 2
   },
   "file_extension": ".py",
   "mimetype": "text/x-python",
   "name": "python",
   "nbconvert_exporter": "python",
   "pygments_lexer": "ipython2",
   "version": "2.7.10"
  }
 },
 "nbformat": 4,
 "nbformat_minor": 0
}
