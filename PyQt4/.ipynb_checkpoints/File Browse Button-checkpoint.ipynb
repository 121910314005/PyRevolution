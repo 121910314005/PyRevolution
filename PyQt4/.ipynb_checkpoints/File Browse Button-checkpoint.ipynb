{
 "cells": [
  {
   "cell_type": "markdown",
   "metadata": {},
   "source": [
    "#PyQt4 Tutorial (File Browse Button)\n",
    "\n",
    "###Author: Syed Sadat Nazrul"
   ]
  },
  {
   "cell_type": "code",
   "execution_count": null,
   "metadata": {
    "collapsed": true
   },
   "outputs": [],
   "source": [
    "from PyQt4 import QtGui\n",
    "import os, sys"
   ]
  },
  {
   "cell_type": "code",
   "execution_count": null,
   "metadata": {
    "collapsed": false
   },
   "outputs": [],
   "source": [
    "class PrettyWidget(QtGui.QWidget):\n",
    "    \n",
    "    def __init__(self):\n",
    "        super(PrettyWidget, self).__init__()\n",
    "        self.initUI()\n",
    "        \n",
    "        \n",
    "    def initUI(self):\n",
    "        self.setGeometry(600, 300, 400, 200)\n",
    "        self.setWindowTitle('Single Browse')     \n",
    "        \n",
    "        btn = QtGui.QPushButton('Browse\\n(SINGLE)', self)\n",
    "        btn.resize(btn.sizeHint())\n",
    "        btn.clicked.connect(self.SingleBrowse)\n",
    "        btn.move(150, 100)     \n",
    "\n",
    "        self.show()\n",
    "\n",
    "    def SingleBrowse(self):\n",
    "        filePath = QtGui.QFileDialog.getOpenFileName(self, \n",
    "                                                       'Single File',\n",
    "                                                       \"~/Desktop/PyRevolution/PyQt4\",\n",
    "                                                      '*.txt')\n",
    "        print('filePath',filePath, '\\n')\n",
    "        \n",
    "        fileHandle = open(filePath, 'r')\n",
    "        lines = fileHandle.readlines()\n",
    "        for line in lines:\n",
    "            print(line)\n",
    "    \n",
    "def main():\n",
    "    app = QtGui.QApplication(sys.argv)\n",
    "    w = PrettyWidget()\n",
    "    app.exec_()\n",
    "\n",
    "\n",
    "if __name__ == '__main__':\n",
    "    main()"
   ]
  },
  {
   "cell_type": "code",
   "execution_count": null,
   "metadata": {
    "collapsed": false
   },
   "outputs": [],
   "source": [
    "class PrettyWidget(QtGui.QWidget):\n",
    "    \n",
    "    def __init__(self):\n",
    "        super(PrettyWidget, self).__init__()\n",
    "        self.initUI()\n",
    "        \n",
    "        \n",
    "    def initUI(self):\n",
    "        self.setGeometry(600, 300, 400, 200)\n",
    "        self.setWindowTitle('Multiple Browse')     \n",
    "        \n",
    "        btn = QtGui.QPushButton('Browse\\n(MULTIPLE)', self)\n",
    "        btn.resize(btn.sizeHint())\n",
    "        btn.clicked.connect(self.SingleBrowse)\n",
    "        btn.move(150, 100)     \n",
    "\n",
    "        self.show()\n",
    "\n",
    "    def SingleBrowse(self):\n",
    "        filePaths = QtGui.QFileDialog.getOpenFileNames(self, \n",
    "                                                       'Multiple File',\n",
    "                                                       \"~/Desktop/PyRevolution/PyQt4\",\n",
    "                                                      '*.txt')\n",
    "        for filePath in filePaths:\n",
    "            print('filePath',filePath, '\\n')\n",
    "            fileHandle = open(filePath, 'r')\n",
    "            lines = fileHandle.readlines()\n",
    "            for line in lines:\n",
    "                print(line)\n",
    "    \n",
    "def main():\n",
    "    app = QtGui.QApplication(sys.argv)\n",
    "    w = PrettyWidget()\n",
    "    app.exec_()\n",
    "\n",
    "\n",
    "if __name__ == '__main__':\n",
    "    main()"
   ]
  },
  {
   "cell_type": "code",
   "execution_count": null,
   "metadata": {
    "collapsed": true
   },
   "outputs": [],
   "source": []
  }
 ],
 "metadata": {
  "kernelspec": {
   "display_name": "Python 3",
   "language": "python",
   "name": "python3"
  },
  "language_info": {
   "codemirror_mode": {
    "name": "ipython",
    "version": 3
   },
   "file_extension": ".py",
   "mimetype": "text/x-python",
   "name": "python",
   "nbconvert_exporter": "python",
   "pygments_lexer": "ipython3",
   "version": "3.4.3"
  }
 },
 "nbformat": 4,
 "nbformat_minor": 0
}
