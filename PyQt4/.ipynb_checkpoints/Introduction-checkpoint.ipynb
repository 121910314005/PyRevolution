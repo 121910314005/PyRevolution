{
 "cells": [
  {
   "cell_type": "markdown",
   "metadata": {},
   "source": [
    "#PyQt4 Tutorial (Introduction)\n",
    "\n",
    "###Author: Syed Sadat Nazrul"
   ]
  },
  {
   "cell_type": "markdown",
   "metadata": {},
   "source": [
    "Welcome to the PyQt4 tutorial! \n",
    "\n",
    "PyQt4 is a toolkit for creating GUI applications. It is a blending of Python programming language and the successful Qt library. Qt library is one of the most powerful GUI libraries.\n",
    "\n",
    "Now first of all.... what is a GUI??? \n",
    "\n",
    "A GUI or Graphical User interface is a type of interface that allows users to interact with electronic devices through graphical icons and visual indicators such as secondary notation, as opposed to text-based interfaces, typed command labels or text navigation.\n",
    "\n",
    "Why do we care? \n",
    "\n",
    "Well first of all, it makes it more convenient to use when you are dealing with people who cant code.. unless you want them to react to something like this..."
   ]
  },
  {
   "cell_type": "markdown",
   "metadata": {},
   "source": [
    "<img src=\"files/static/confused.gif\">"
   ]
  },
  {
   "cell_type": "markdown",
   "metadata": {},
   "source": [
    "Before we jump into details, lets get started by making your first app and generating a window! It's a lot of code down there but stay calm. This will all make sense in no time. Run it now and see what happens."
   ]
  },
  {
   "cell_type": "code",
   "execution_count": null,
   "metadata": {
    "collapsed": false
   },
   "outputs": [],
   "source": [
    "import sys\n",
    "from PyQt4 import QtGui\n",
    "\n",
    "\n",
    "def main():\n",
    "    \n",
    "    app = QtGui.QApplication(sys.argv)\n",
    "\n",
    "    w = QtGui.QWidget()\n",
    "    w.resize(400,200)\n",
    "    w.move(600, 300)\n",
    "    w.setWindowTitle('YOUR FIRST PYTHON GUI!')\n",
    "    w.show()\n",
    "    \n",
    "    app.exec_()\n",
    "\n",
    "if __name__ == '__main__':\n",
    "    main()"
   ]
  },
  {
   "cell_type": "markdown",
   "metadata": {},
   "source": [
    "Wasn't that fun? Alright. Now lets break down this code to it's nitty gritties!\n",
    "\n",
    "First off, we created a ```main()``` function that can be activated via the terminal to launch our GUI.\n",
    "\n",
    "Before starting any PyQt4 GUI we need to launch the application (QApplication object). \n",
    "```\n",
    "        app = QtGui.QApplication(sys.argv)\n",
    "```        \n",
    "The QApplication class manages the GUI application's control flow and main settings.\n",
    "\n",
    "Now that we have our application running, let's create our Widget. \n",
    "```\n",
    "        w = QtGui.QWidget()\n",
    "```        \n",
    "The QWidget class is the base class of all user interface objects.\n",
    "\n",
    "Now that we have our Widget (or pretty window you just made), let's customize our Widget (w) with the size and shapes we want\n",
    "```\n",
    "        w.resize(400,200)\n",
    "        w.move(600, 300)\n",
    "        w.setWindowTitle('YOUR FIRST PYTHON GUI!')\n",
    "```\n",
    "After we make our Widget, we still need it to show up on our screen!\n",
    "```\n",
    "        w.show()\n",
    "```\n",
    "Last but not the least, exiting. Now, unlike regular Python codes, GUIs are always running in loops, wating for someone to press a button on the keyboard or for the mouse to do something. Simply trying to close the Widget will crash our program. To avoid this, we need to write the following to exit... cleanly...\n",
    "```\n",
    "        sys.exit(app.exec_())\n",
    "```"
   ]
  },
  {
   "cell_type": "markdown",
   "metadata": {},
   "source": [
    "Now that we have some of the basics down, let's make our GUI into a class instead of a simple main() function. For fun, let's call our class PrettyWidget()!"
   ]
  },
  {
   "cell_type": "code",
   "execution_count": null,
   "metadata": {
    "collapsed": true
   },
   "outputs": [],
   "source": [
    "import sys\n",
    "from PyQt4 import QtGui\n",
    "\n",
    "\n",
    "class PrettyWidget(QtGui.QWidget):\n",
    "    \n",
    "    def __init__(self):\n",
    "        super(PrettyWidget, self).__init__()\n",
    "        self.initUI()\n",
    "        \n",
    "        \n",
    "    def initUI(self):\n",
    "        self.setGeometry(600, 300, 400, 200)\n",
    "        self.setWindowTitle('UPGRATED GUI!')     \n",
    "        self.show()\n",
    "        \n",
    "        \n",
    "def main():\n",
    "    app = QtGui.QApplication(sys.argv)\n",
    "    w = PrettyWidget()\n",
    "    app.exec_()\n",
    "\n",
    "\n",
    "if __name__ == '__main__':\n",
    "    main()"
   ]
  },
  {
   "cell_type": "markdown",
   "metadata": {},
   "source": [
    "This time, instead of having a variable (w) being a QWidget, we transformed an entire class into one!\n",
    "```\n",
    "class PrettyWidget(QtGui.QWidget):\n",
    "    \n",
    "    def __init__(self):\n",
    "        super(PrettyWidget, self).__init__()        \n",
    "        self.initUI()\n",
    "```\n",
    "The PrettyWidget() inherited the QTGui.QWidget(). The three most important things in object oriented programming are classes, data, and methods. Here we create a new class called PrettyWidget. The PrettyWidget class inherits from QtGui.QWidget class. This means that we call two constructors: the first one for the PrettyWidget class and the second one for the inherited class. The super() method returns the parent object of the PrettyWidget class and we call its constructor. The __init__() method is a constructor method in Python. The creation of the GUI is handled by initUI().\n",
    "```\n",
    "    def initUI(self):  \n",
    "        self.setGeometry(600, 300, 400, 200)\n",
    "        self.setWindowTitle('UPGRATED GUI!')     \n",
    "        self.show()\n",
    "```\n",
    "Finally, the main() function is incharge of lanching the application, creating the GUI on the application and cleanly exiting out when we terminate the GUI.\n",
    "```\n",
    "    def main():\n",
    "        app = QtGui.QApplication(sys.argv)\n",
    "        w = PrettyWidget()\n",
    "        sys.exit(app.exec_())\n",
    "```"
   ]
  },
  {
   "cell_type": "markdown",
   "metadata": {},
   "source": [
    "CONGRATULATIONS!!! You have just made a window... boring!!!\n",
    "I am sure you want to make a GUI that does cool stuff. So let's start off with the next phase of our evil plan.... THE BUTTON!"
   ]
  },
  {
   "cell_type": "markdown",
   "metadata": {},
   "source": [
    "<img src=\"files/static/pushbutton.gif\">"
   ]
  },
  {
   "cell_type": "code",
   "execution_count": null,
   "metadata": {
    "collapsed": false
   },
   "outputs": [],
   "source": [
    "import sys\n",
    "from PyQt4 import QtGui\n",
    "\n",
    "\n",
    "class PrettyWidget(QtGui.QWidget):\n",
    "    \n",
    "    def __init__(self):\n",
    "        super(PrettyWidget, self).__init__()\n",
    "        self.initUI()\n",
    "        \n",
    "        \n",
    "    def initUI(self):\n",
    "        self.setGeometry(600, 300, 400, 200)\n",
    "        self.setWindowTitle('UPGRATED GUI!')     \n",
    "        \n",
    "        btn = QtGui.QPushButton('Button', self)\n",
    "        btn.resize(btn.sizeHint())\n",
    "        btn.move(150, 100)     \n",
    "\n",
    "        self.show()\n",
    "        \n",
    "def main():\n",
    "    app = QtGui.QApplication(sys.argv)\n",
    "    w = PrettyWidget()\n",
    "    app.exec_()\n",
    "\n",
    "\n",
    "if __name__ == '__main__':\n",
    "    main()"
   ]
  },
  {
   "cell_type": "markdown",
   "metadata": {},
   "source": [
    "Now we have a button for our GUI!\n",
    "```\n",
    "        btn = QtGui.QPushButton('Button', self)\n",
    "        btn.resize(btn.sizeHint())\n",
    "        btn.move(150, 100)  \n",
    "```\n",
    "The button is created using the QPushButton class. For the size of the button, we used sizeHint() for PyQt4 to pick the recommended button size for the screen. \n",
    "\n",
    "However, our button doesnt do anything at the moment. For that, you need to learn the concept of Events and Signals on the next lesson!"
   ]
  },
  {
   "cell_type": "markdown",
   "metadata": {
    "collapsed": true
   },
   "source": [
    "##| [Signals and Events](Events and Signals.ipynb) ->"
   ]
  },
  {
   "cell_type": "code",
   "execution_count": null,
   "metadata": {
    "collapsed": true
   },
   "outputs": [],
   "source": []
  }
 ],
 "metadata": {
  "kernelspec": {
   "display_name": "Python 3",
   "language": "python",
   "name": "python3"
  },
  "language_info": {
   "codemirror_mode": {
    "name": "ipython",
    "version": 3
   },
   "file_extension": ".py",
   "mimetype": "text/x-python",
   "name": "python",
   "nbconvert_exporter": "python",
   "pygments_lexer": "ipython3",
   "version": "3.4.3"
  }
 },
 "nbformat": 4,
 "nbformat_minor": 0
}
