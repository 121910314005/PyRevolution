{
 "cells": [
  {
   "cell_type": "markdown",
   "metadata": {},
   "source": [
    "#Handwriting Recognition\n",
    "\n",
    "###Author: Syed (Sadat) Nazrul\n",
    "\n",
    "# "
   ]
  },
  {
   "cell_type": "markdown",
   "metadata": {},
   "source": [
    "####Import libraries and dataset from Scikit-Learn"
   ]
  },
  {
   "cell_type": "code",
   "execution_count": null,
   "metadata": {
    "collapsed": true
   },
   "outputs": [],
   "source": [
    "import matplotlib.pyplot as plt\n",
    "%matplotlib inline\n",
    "from sklearn.datasets import load_digits\n",
    "\n",
    "digits = load_digits()"
   ]
  },
  {
   "cell_type": "markdown",
   "metadata": {},
   "source": [
    "####Analyze a sample image"
   ]
  },
  {
   "cell_type": "code",
   "execution_count": null,
   "metadata": {
    "collapsed": false
   },
   "outputs": [],
   "source": [
    "import pylab as pl \n",
    "pl.gray() \n",
    "pl.matshow(digits.images[0]) \n",
    "pl.show() "
   ]
  },
  {
   "cell_type": "markdown",
   "metadata": {},
   "source": [
    "####Analyze image pixels\n",
    "\n",
    "Each element represents the pixel of our greyscale image. The value ranges from 0 to 255 for an 8 bit pixel."
   ]
  },
  {
   "cell_type": "code",
   "execution_count": null,
   "metadata": {
    "collapsed": false
   },
   "outputs": [],
   "source": [
    "digits.images[0]"
   ]
  },
  {
   "cell_type": "markdown",
   "metadata": {},
   "source": [
    "####Visualize first 15 images"
   ]
  },
  {
   "cell_type": "code",
   "execution_count": null,
   "metadata": {
    "collapsed": false
   },
   "outputs": [],
   "source": [
    "images_and_labels = list(zip(digits.images, digits.target))\n",
    "plt.figure(figsize=(5,5))\n",
    "for index, (image, label) in enumerate(images_and_labels[:15]):\n",
    "    plt.subplot(3, 5, index + 1)\n",
    "    plt.axis('off')\n",
    "    plt.imshow(image, cmap=plt.cm.gray_r, interpolation='nearest')\n",
    "    plt.title('%i' % label)"
   ]
  },
  {
   "cell_type": "code",
   "execution_count": null,
   "metadata": {
    "collapsed": false
   },
   "outputs": [],
   "source": [
    "import random\n",
    "from sklearn import ensemble\n",
    "\n",
    "#Define variables\n",
    "n_samples = len(digits.images)\n",
    "x = digits.images.reshape((n_samples, -1))\n",
    "y = digits.target\n",
    "\n",
    "#Create random indices \n",
    "sample_index=random.sample(range(len(x)),len(x)/5) \n",
    "valid_index=[i for i in range(len(x)) if i not in sample_index]\n",
    "\n",
    "#Sample and validation images\n",
    "sample_images=[x[i] for i in sample_index]\n",
    "valid_images=[x[i] for i in valid_index]\n",
    "\n",
    "#Sample and validation targets\n",
    "sample_target=[y[i] for i in sample_index]\n",
    "valid_target=[y[i] for i in valid_index]\n",
    "\n",
    "#Using the Random Tree Classifier\n",
    "classifier = ensemble.RandomForestClassifier()\n",
    "\n",
    "#Fit model with sample data\n",
    "classifier.fit(sample_images, sample_target)\n",
    "\n",
    "#Attempt to predict validation data\n",
    "score=classifier.score(valid_images, valid_target)\n",
    "print 'Random Tree Classifier:\\n' \n",
    "print 'Score\\t'+str(score)"
   ]
  },
  {
   "cell_type": "code",
   "execution_count": null,
   "metadata": {
    "collapsed": false
   },
   "outputs": [],
   "source": [
    "i=0\n",
    "\n",
    "pl.gray() \n",
    "pl.matshow(digits.images[i]) \n",
    "pl.show() \n",
    "classifier.predict(x[i])"
   ]
  },
  {
   "cell_type": "code",
   "execution_count": null,
   "metadata": {
    "collapsed": true
   },
   "outputs": [],
   "source": []
  }
 ],
 "metadata": {
  "kernelspec": {
   "display_name": "Python 2",
   "language": "python",
   "name": "python2"
  },
  "language_info": {
   "codemirror_mode": {
    "name": "ipython",
    "version": 2
   },
   "file_extension": ".py",
   "mimetype": "text/x-python",
   "name": "python",
   "nbconvert_exporter": "python",
   "pygments_lexer": "ipython2",
   "version": "2.7.10"
  }
 },
 "nbformat": 4,
 "nbformat_minor": 0
}
