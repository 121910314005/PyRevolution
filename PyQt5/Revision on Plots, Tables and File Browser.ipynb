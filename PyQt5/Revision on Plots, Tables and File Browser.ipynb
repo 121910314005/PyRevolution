{
 "cells": [
  {
   "cell_type": "markdown",
   "metadata": {},
   "source": [
    "#PyQt4 Tutorial (Revision on Plots, Tables and File Browser)\n",
    "\n",
    "###Author: Syed Sadat Nazrul"
   ]
  },
  {
   "cell_type": "code",
   "execution_count": 1,
   "metadata": {
    "collapsed": true
   },
   "outputs": [],
   "source": [
    "from PyQt4 import QtGui\n",
    "import os, sys\n",
    "import numpy as np\n",
    "import matplotlib.pyplot as plt\n",
    "from matplotlib.backends.backend_qt4agg import FigureCanvasQTAgg as FigureCanvas\n",
    "from matplotlib.backends.backend_qt4agg import NavigationToolbar2QTAgg as NavigationToolbar"
   ]
  },
  {
   "cell_type": "code",
   "execution_count": 2,
   "metadata": {
    "collapsed": false
   },
   "outputs": [
    {
     "name": "stderr",
     "output_type": "stream",
     "text": [
      "/home/sadat/anaconda3/lib/python3.4/site-packages/matplotlib/backends/backend_qt5agg.py:210: MatplotlibDeprecationWarning: This class has been deprecated in 1.4 as it has no additional functionality over `NavigationToolbar2QT`.  Please change your code to use `NavigationToolbar2QT` instead\n",
      "  mplDeprecation)\n"
     ]
    }
   ],
   "source": [
    "class PrettyWidget(QtGui.QWidget):\n",
    "    \n",
    "    \n",
    "    def __init__(self):\n",
    "        super(PrettyWidget, self).__init__()\n",
    "        self.initUI()\n",
    "        \n",
    "        \n",
    "    def initUI(self):\n",
    "        self.setGeometry(600,300, 1000, 600)\n",
    "        self.center()\n",
    "        self.setWindowTitle('Revision on Plots, Tables and File Browser')     \n",
    "        \n",
    "        #Grid Layout\n",
    "        grid = QtGui.QGridLayout()\n",
    "        self.setLayout(grid)\n",
    "                    \n",
    "        #Canvas and Toolbar\n",
    "        self.figure = plt.figure(figsize=(15,5))    \n",
    "        self.canvas = FigureCanvas(self.figure)     \n",
    "        self.toolbar = NavigationToolbar(self.canvas, self)\n",
    "        grid.addWidget(self.canvas, 2,0,1,2)\n",
    "        grid.addWidget(self.toolbar, 1,0,1,2)\n",
    "\n",
    "        #Empty 5x5 Table\n",
    "        self.table = QtGui.QTableWidget(self)\n",
    "        self.table.setRowCount(1)\n",
    "        self.table.setColumnCount(9)\n",
    "        grid.addWidget(self.table, 3,0,1,2)\n",
    "        \n",
    "        #Import CSV Button\n",
    "        btn1 = QtGui.QPushButton('Import CSV', self)\n",
    "        btn1.resize(btn1.sizeHint()) \n",
    "        btn1.clicked.connect(self.getCSV)\n",
    "        grid.addWidget(btn1, 0,0)\n",
    "        \n",
    "        #Plot Button\n",
    "        btn2 = QtGui.QPushButton('Plot', self)\n",
    "        btn2.resize(btn2.sizeHint())    \n",
    "        btn2.clicked.connect(self.plot)\n",
    "        grid.addWidget(btn2, 0,1)\n",
    "    \n",
    "        self.show()\n",
    "    \n",
    "    \n",
    "    def getCSV(self):\n",
    "        filePath = QtGui.QFileDialog.getOpenFileName(self, \n",
    "                                                       'Single File',\n",
    "                                                       '~/Desktop/PyRevolution/PyQt4',\n",
    "                                                       '*.csv')\n",
    "        fileHandle = open(filePath, 'r')\n",
    "        line = fileHandle.readline()[:-1].split(',')\n",
    "        for n, val in enumerate(line):\n",
    "            newitem = QtGui.QTableWidgetItem(val)\n",
    "            self.table.setItem(0, n, newitem)\n",
    "        self.table.resizeColumnsToContents()\n",
    "        self.table.resizeRowsToContents()    \n",
    "    \n",
    "    \n",
    "    def plot(self):\n",
    "        y = []\n",
    "        for n in range(9):\n",
    "            try:\n",
    "                y.append(float(self.table.item(0, n).text()))\n",
    "            except:\n",
    "                y.append(np.nan)\n",
    "        plt.cla()\n",
    "        ax = self.figure.add_subplot(111)\n",
    "        ax.plot(y, 'r.-')\n",
    "        ax.set_title('Table Plot')\n",
    "        self.canvas.draw()\n",
    "    \n",
    "    \n",
    "    def center(self):\n",
    "        qr = self.frameGeometry()\n",
    "        cp = QtGui.QDesktopWidget().availableGeometry().center()\n",
    "        qr.moveCenter(cp)\n",
    "        self.move(qr.topLeft())\n",
    "    \n",
    "    \n",
    "        \n",
    "def main():\n",
    "    app = QtGui.QApplication(sys.argv)\n",
    "    w = PrettyWidget()\n",
    "    app.exec_()\n",
    "\n",
    "\n",
    "if __name__ == '__main__':\n",
    "    main()"
   ]
  },
  {
   "cell_type": "code",
   "execution_count": null,
   "metadata": {
    "collapsed": true
   },
   "outputs": [],
   "source": []
  }
 ],
 "metadata": {
  "kernelspec": {
   "display_name": "Python 3",
   "language": "python",
   "name": "python3"
  },
  "language_info": {
   "codemirror_mode": {
    "name": "ipython",
    "version": 3
   },
   "file_extension": ".py",
   "mimetype": "text/x-python",
   "name": "python",
   "nbconvert_exporter": "python",
   "pygments_lexer": "ipython3",
   "version": "3.4.3"
  }
 },
 "nbformat": 4,
 "nbformat_minor": 0
}
